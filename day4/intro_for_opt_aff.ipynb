{
 "metadata": {
  "name": "",
  "signature": "sha256:9fcc10795e44702d97479bcc84f7d018259cb684f82f238d4f4fb0d5a80ab41c"
 },
 "nbformat": 3,
 "nbformat_minor": 0,
 "worksheets": [
  {
   "cells": [
    {
     "cell_type": "code",
     "collapsed": false,
     "input": [
      "# - compatibility with Python 3\n",
      "from __future__ import print_function  # print('me') instead of print 'me'\n",
      "from __future__ import division  # 1/2 == 0.5, not 0"
     ],
     "language": "python",
     "metadata": {},
     "outputs": [],
     "prompt_number": 1
    },
    {
     "cell_type": "code",
     "collapsed": false,
     "input": [
      "# - show figures inside the notebook\n",
      "%matplotlib inline"
     ],
     "language": "python",
     "metadata": {},
     "outputs": [],
     "prompt_number": 2
    },
    {
     "cell_type": "code",
     "collapsed": false,
     "input": [
      "# - import common modules\n",
      "import numpy as np  # the Python array package\n",
      "import matplotlib.pyplot as plt  # the Python plotting package"
     ],
     "language": "python",
     "metadata": {},
     "outputs": [],
     "prompt_number": 3
    },
    {
     "cell_type": "code",
     "collapsed": false,
     "input": [
      "# - set gray colormap and nearest neighbor interpolation by default\n",
      "plt.rcParams['image.cmap'] = 'gray'\n",
      "plt.rcParams['image.interpolation'] = 'nearest'"
     ],
     "language": "python",
     "metadata": {},
     "outputs": [],
     "prompt_number": 4
    },
    {
     "cell_type": "code",
     "collapsed": false,
     "input": [
      "# - import numpy.linalg with a shorter name\n",
      "import numpy.linalg as npl"
     ],
     "language": "python",
     "metadata": {},
     "outputs": [],
     "prompt_number": 5
    },
    {
     "cell_type": "code",
     "collapsed": false,
     "input": [
      "# - make numpy print out values in less verbose form\n",
      "np.set_printoptions(suppress=True, precision=4)"
     ],
     "language": "python",
     "metadata": {},
     "outputs": [],
     "prompt_number": 6
    },
    {
     "cell_type": "markdown",
     "metadata": {},
     "source": [
      "## Keyword arguments"
     ]
    },
    {
     "cell_type": "markdown",
     "metadata": {},
     "source": [
      "We have seen keyword arguments in action before, but we have not gone into detail about what they are.\n",
      "\n",
      "A keyword argument is where you pass in the argument to a function along with its name, as in `argname=value`.\n",
      "\n",
      "This has the big advantage that it can be a lot easier to see what the arguments mean, assuming they have a good name associated with them.\n",
      "\n",
      "For example, compare these two calls:"
     ]
    },
    {
     "cell_type": "code",
     "collapsed": false,
     "input": [
      "np.mean([[0, 1, 2], [3, 4, 5]], 0)"
     ],
     "language": "python",
     "metadata": {},
     "outputs": [
      {
       "metadata": {},
       "output_type": "pyout",
       "prompt_number": 7,
       "text": [
        "array([ 1.5,  2.5,  3.5])"
       ]
      }
     ],
     "prompt_number": 7
    },
    {
     "cell_type": "code",
     "collapsed": false,
     "input": [
      "np.mean([[0, 1, 2], [3, 4, 5]], axis=0)"
     ],
     "language": "python",
     "metadata": {},
     "outputs": [
      {
       "metadata": {},
       "output_type": "pyout",
       "prompt_number": 8,
       "text": [
        "array([ 1.5,  2.5,  3.5])"
       ]
      }
     ],
     "prompt_number": 8
    },
    {
     "cell_type": "markdown",
     "metadata": {},
     "source": [
      "The second form is a lot clearer, because you can see immediately what the `0` means.  For the first form, you would have to know that the second argument is the axis."
     ]
    },
    {
     "cell_type": "markdown",
     "metadata": {},
     "source": [
      "The names for the arguments correspond to the names of the arguments in the function definition, like this:"
     ]
    },
    {
     "cell_type": "code",
     "collapsed": false,
     "input": [
      "def func1(arg1, arg2):\n",
      "    print('Value of arg1', arg1)\n",
      "    print('Value of arg2', arg2)"
     ],
     "language": "python",
     "metadata": {},
     "outputs": [],
     "prompt_number": 9
    },
    {
     "cell_type": "markdown",
     "metadata": {},
     "source": [
      "Here I can pass in the arguments by position (the first value goes into `arg1`, the second into `arg2`:"
     ]
    },
    {
     "cell_type": "code",
     "collapsed": false,
     "input": [
      "func1('one', 'two')"
     ],
     "language": "python",
     "metadata": {},
     "outputs": [
      {
       "output_type": "stream",
       "stream": "stdout",
       "text": [
        "Value of arg1 one\n",
        "Value of arg2 two\n"
       ]
      }
     ],
     "prompt_number": 10
    },
    {
     "cell_type": "markdown",
     "metadata": {},
     "source": [
      "But I can also pass the arguments in by name, as long as I always specify both arguments:"
     ]
    },
    {
     "cell_type": "code",
     "collapsed": false,
     "input": [
      "func1(arg1='first', arg2='second')"
     ],
     "language": "python",
     "metadata": {},
     "outputs": [
      {
       "output_type": "stream",
       "stream": "stdout",
       "text": [
        "Value of arg1 first\n",
        "Value of arg2 second\n"
       ]
      }
     ],
     "prompt_number": 11
    },
    {
     "cell_type": "markdown",
     "metadata": {},
     "source": [
      "Now I have specified the names, they don't any longer need to be passed in the order they are defined in the function, because the name makes it clear which value is which:"
     ]
    },
    {
     "cell_type": "code",
     "collapsed": false,
     "input": [
      "func1(arg2='dos', arg1='uno')"
     ],
     "language": "python",
     "metadata": {},
     "outputs": [
      {
       "output_type": "stream",
       "stream": "stdout",
       "text": [
        "Value of arg1 uno\n",
        "Value of arg2 dos\n"
       ]
      }
     ],
     "prompt_number": 12
    },
    {
     "cell_type": "markdown",
     "metadata": {},
     "source": [
      "This starts becoming very useful when I define default values for arguments that are optional.  In this case, if I do not pass in a value for the optional arguments, they get their default values, defined in the function signature:"
     ]
    },
    {
     "cell_type": "code",
     "collapsed": false,
     "input": [
      "def func2(arg1, arg2, key_arg1=10, key_arg2='my-name'):\n",
      "    print('Value of arg1', arg1)\n",
      "    print('Value of arg2', arg2)\n",
      "    print('Value of key_arg1', key_arg1)\n",
      "    print('Value of key_arg2', key_arg2)"
     ],
     "language": "python",
     "metadata": {},
     "outputs": [],
     "prompt_number": 13
    },
    {
     "cell_type": "markdown",
     "metadata": {},
     "source": [
      "Now I don't need to pass anything for `key_arg1` or `key_arg2` - and if I don't - they get their default values:"
     ]
    },
    {
     "cell_type": "code",
     "collapsed": false,
     "input": [
      "func2('first', 'second')"
     ],
     "language": "python",
     "metadata": {},
     "outputs": [
      {
       "output_type": "stream",
       "stream": "stdout",
       "text": [
        "Value of arg1 first\n",
        "Value of arg2 second\n",
        "Value of key_arg1 10\n",
        "Value of key_arg2 my-name\n"
       ]
      }
     ],
     "prompt_number": 14
    },
    {
     "cell_type": "markdown",
     "metadata": {},
     "source": [
      "The keyword arguments (`key_arg1`, `key_arg2`) get their values from the default in the function signature, unless you override them by giving them another value.  Here I give the value by name:"
     ]
    },
    {
     "cell_type": "code",
     "collapsed": false,
     "input": [
      "func2('first', 'second', key_arg1=99)"
     ],
     "language": "python",
     "metadata": {},
     "outputs": [
      {
       "output_type": "stream",
       "stream": "stdout",
       "text": [
        "Value of arg1 first\n",
        "Value of arg2 second\n",
        "Value of key_arg1 99\n",
        "Value of key_arg2 my-name\n"
       ]
      }
     ],
     "prompt_number": 15
    },
    {
     "cell_type": "markdown",
     "metadata": {},
     "source": [
      "I can also pass in an argument to the keyword argument by position.  Remember that `key_arg1` is third in the argument list:"
     ]
    },
    {
     "cell_type": "code",
     "collapsed": false,
     "input": [
      "func2('first', 'second', 100)"
     ],
     "language": "python",
     "metadata": {},
     "outputs": [
      {
       "output_type": "stream",
       "stream": "stdout",
       "text": [
        "Value of arg1 first\n",
        "Value of arg2 second\n",
        "Value of key_arg1 100\n",
        "Value of key_arg2 my-name\n"
       ]
      }
     ],
     "prompt_number": 16
    },
    {
     "cell_type": "code",
     "collapsed": false,
     "input": [
      "func2('first', 'second', 100, 'another-name')"
     ],
     "language": "python",
     "metadata": {},
     "outputs": [
      {
       "output_type": "stream",
       "stream": "stdout",
       "text": [
        "Value of arg1 first\n",
        "Value of arg2 second\n",
        "Value of key_arg1 100\n",
        "Value of key_arg2 another-name\n"
       ]
      }
     ],
     "prompt_number": 17
    },
    {
     "cell_type": "markdown",
     "metadata": {},
     "source": [
      "One very nice feature of keyword arguments is that I can have a long list of keyword arguments, each with their own default, and I only need to pass in the keyword argument values I want to change:"
     ]
    },
    {
     "cell_type": "code",
     "collapsed": false,
     "input": [
      "func2('first', 'second', key_arg2='yet-another-name')"
     ],
     "language": "python",
     "metadata": {},
     "outputs": [
      {
       "output_type": "stream",
       "stream": "stdout",
       "text": [
        "Value of arg1 first\n",
        "Value of arg2 second\n",
        "Value of key_arg1 10\n",
        "Value of key_arg2 yet-another-name\n"
       ]
      }
     ],
     "prompt_number": 18
    },
    {
     "cell_type": "markdown",
     "metadata": {},
     "source": [
      "Notice that `key_arg1` still got its default value.\n",
      "\n",
      "Many functions in numpy and scipy use arguments with defaults as a way of specifying values that you often need to change, but have sensible defaults.\n",
      "\n",
      "For example, we have already used `order=1` in our calls to ``scipy.ndimage.affine_transform``.  This tells `affine_transform` to use simple (and quick) linear interpolation for resampling.  The default that we are overriding is ``order=3``.  `order=3` gives a higher quality but slower [cubic spline interpolation](https://en.wikipedia.org/wiki/Spline_interpolation)."
     ]
    },
    {
     "cell_type": "markdown",
     "metadata": {},
     "source": [
      "## Diagonal matrices"
     ]
    },
    {
     "cell_type": "markdown",
     "metadata": {},
     "source": [
      "We often want to make matrices with all zeros except on the diagonal - diagonal matrices.\n",
      "\n",
      "Numpy does not fail us:"
     ]
    },
    {
     "cell_type": "code",
     "collapsed": false,
     "input": [
      "np.diag([3, 4, 5, 6])"
     ],
     "language": "python",
     "metadata": {},
     "outputs": [
      {
       "metadata": {},
       "output_type": "pyout",
       "prompt_number": 19,
       "text": [
        "array([[3, 0, 0, 0],\n",
        "       [0, 4, 0, 0],\n",
        "       [0, 0, 5, 0],\n",
        "       [0, 0, 0, 6]])"
       ]
      }
     ],
     "prompt_number": 19
    },
    {
     "cell_type": "code",
     "collapsed": false,
     "input": [
      "np.diag([7, 8, 9, 10, 11])"
     ],
     "language": "python",
     "metadata": {},
     "outputs": [
      {
       "metadata": {},
       "output_type": "pyout",
       "prompt_number": 20,
       "text": [
        "array([[ 7,  0,  0,  0,  0],\n",
        "       [ 0,  8,  0,  0,  0],\n",
        "       [ 0,  0,  9,  0,  0],\n",
        "       [ 0,  0,  0, 10,  0],\n",
        "       [ 0,  0,  0,  0, 11]])"
       ]
      }
     ],
     "prompt_number": 20
    },
    {
     "cell_type": "markdown",
     "metadata": {},
     "source": [
      "## Using `assert` as a poor-man's test"
     ]
    },
    {
     "cell_type": "markdown",
     "metadata": {},
     "source": [
      "We have already used `assert` - but we will see it again in the exercises.\n",
      "\n",
      "`assert` means - \"raise an error unless the expression that follows evaluates to True\".\n",
      "\n",
      "So, if you `assert an_expression` and there is no error, than `an_expression` evaluated to True: "
     ]
    },
    {
     "cell_type": "code",
     "collapsed": false,
     "input": [
      "assert True\n",
      "assert 10 == 10\n",
      "assert 10 % 2 == 0"
     ],
     "language": "python",
     "metadata": {},
     "outputs": [],
     "prompt_number": 21
    },
    {
     "cell_type": "markdown",
     "metadata": {},
     "source": [
      "But:"
     ]
    },
    {
     "cell_type": "code",
     "collapsed": false,
     "input": [
      "# assert 10 == 11 raises an AssertionError"
     ],
     "language": "python",
     "metadata": {},
     "outputs": [],
     "prompt_number": 22
    },
    {
     "cell_type": "markdown",
     "metadata": {},
     "source": [
      "## Random numbers with `np.random`"
     ]
    },
    {
     "cell_type": "markdown",
     "metadata": {},
     "source": [
      "We often need random numbers, for tests and for taking random samples, and for other things.  `np.random` is a module:"
     ]
    },
    {
     "cell_type": "code",
     "collapsed": false,
     "input": [
      "type(np.random)"
     ],
     "language": "python",
     "metadata": {},
     "outputs": [
      {
       "metadata": {},
       "output_type": "pyout",
       "prompt_number": 23,
       "text": [
        "module"
       ]
      }
     ],
     "prompt_number": 23
    },
    {
     "cell_type": "markdown",
     "metadata": {},
     "source": [
      "It has a series of functions for returning random numbers of various sorts.  For example, to return a single random number from the default normal distribution (mean 0, variance 1):"
     ]
    },
    {
     "cell_type": "code",
     "collapsed": false,
     "input": [
      "np.random.normal()"
     ],
     "language": "python",
     "metadata": {},
     "outputs": [
      {
       "metadata": {},
       "output_type": "pyout",
       "prompt_number": 24,
       "text": [
        "-0.181657919271905"
       ]
      }
     ],
     "prompt_number": 24
    },
    {
     "cell_type": "markdown",
     "metadata": {},
     "source": [
      "To return a 8 by 5 array of random numbers from the same distribution:"
     ]
    },
    {
     "cell_type": "code",
     "collapsed": false,
     "input": [
      "np.random.normal(size=(8, 5))"
     ],
     "language": "python",
     "metadata": {},
     "outputs": [
      {
       "metadata": {},
       "output_type": "pyout",
       "prompt_number": 25,
       "text": [
        "array([[-1.1608,  1.2191, -0.1123,  0.0664,  2.1758],\n",
        "       [ 1.0528, -2.5712,  0.5527,  0.1448,  0.937 ],\n",
        "       [-1.0934,  2.3408, -1.1589,  1.0372,  0.5725],\n",
        "       [ 0.4759, -2.0295, -1.0649, -0.6062,  0.6569],\n",
        "       [-0.5372,  0.432 ,  0.6601, -0.941 ,  1.4338],\n",
        "       [ 0.5721, -0.3871, -0.7294, -0.8431,  2.1899],\n",
        "       [-2.4298,  0.904 , -1.8619,  0.7909,  1.125 ],\n",
        "       [ 0.3742,  0.6599,  0.2414, -0.4573,  0.4328]])"
       ]
      }
     ],
     "prompt_number": 25
    },
    {
     "cell_type": "markdown",
     "metadata": {},
     "source": [
      "## Encoding zooms (scaling) with a diagonal matrix"
     ]
    },
    {
     "cell_type": "markdown",
     "metadata": {},
     "source": [
      "If I want to express the fact that I am expanding or contracting a coordinate along the x axis, then I just multiply the x coordinate by some amount $p$:\n",
      "\n",
      "$$\n",
      "    \\begin{bmatrix}\n",
      "    x'\\\\\n",
      "    y'\\\\\n",
      "    z'\\\\\n",
      "    \\end{bmatrix} =\n",
      "    \\begin{bmatrix}\n",
      "    p x\\\\\n",
      "    y\\\\\n",
      "    z\\\\\n",
      "    \\end{bmatrix}\n",
      "$$\n",
      "\n",
      "In general if I want to scale by $p$ in $x$, $q$ in $y$ and $r$ in $z$, then I could multiply each coordinate by the respective scaling:\n",
      "\n",
      "$$\n",
      "    \\begin{bmatrix}\n",
      "    x'\\\\\n",
      "    y'\\\\\n",
      "    z'\\\\\n",
      "    \\end{bmatrix} =\n",
      "    \\begin{bmatrix}\n",
      "    p x\\\\\n",
      "    q y\\\\\n",
      "    r z\\\\\n",
      "    \\end{bmatrix}\n",
      "$$\n",
      "\n",
      "We can do the same thing by multiplying the coordinate by a matrix with the scaling factors on the diagonal:\n",
      "\n",
      "$$\n",
      "    \\begin{bmatrix}\n",
      "    x'\\\\\n",
      "    y'\\\\\n",
      "    z'\\\\\n",
      "    \\end{bmatrix} =\n",
      "    \\begin{bmatrix}\n",
      "    p x\\\\\n",
      "    q y\\\\\n",
      "    r z\\\\\n",
      "    \\end{bmatrix} =\n",
      "    \\begin{bmatrix}\n",
      "    p & 0 & 0 \\\\\n",
      "    0 & q & 0 \\\\\n",
      "    0 & 0 & r \\\\\n",
      "    \\end{bmatrix}\n",
      "    \\begin{bmatrix}\n",
      "    x\\\\\n",
      "    y\\\\\n",
      "    z\\\\\n",
      "    \\end{bmatrix}\n",
      "$$"
     ]
    },
    {
     "cell_type": "markdown",
     "metadata": {},
     "source": [
      "Of course you can make these zooming matrices with `np.diag`:"
     ]
    },
    {
     "cell_type": "code",
     "collapsed": false,
     "input": [
      "zoom_mat = np.diag([3, 4, 5])\n",
      "zoom_mat"
     ],
     "language": "python",
     "metadata": {},
     "outputs": [
      {
       "metadata": {},
       "output_type": "pyout",
       "prompt_number": 26,
       "text": [
        "array([[3, 0, 0],\n",
        "       [0, 4, 0],\n",
        "       [0, 0, 5]])"
       ]
      }
     ],
     "prompt_number": 26
    },
    {
     "cell_type": "markdown",
     "metadata": {},
     "source": [
      "## Affine functions in `nibabel.affines`"
     ]
    },
    {
     "cell_type": "markdown",
     "metadata": {},
     "source": [
      "Neuroimaging images have affines, and we often need to process these affines, or apply these affines to coordinates.\n",
      "\n",
      "Nibabel has routines to do this in its `affines` sub-package.\n",
      "\n",
      "You have already seen `from_matvec`.  This makes 4x4 affine given a 3x3 matrix and an optional (keyword argument) vector of translations:"
     ]
    },
    {
     "cell_type": "code",
     "collapsed": false,
     "input": [
      "import nibabel as nib\n",
      "zooming_affine = nib.affines.from_matvec(np.diag([3, 4, 5]))\n",
      "zooming_affine"
     ],
     "language": "python",
     "metadata": {},
     "outputs": [
      {
       "metadata": {},
       "output_type": "pyout",
       "prompt_number": 27,
       "text": [
        "array([[3, 0, 0, 0],\n",
        "       [0, 4, 0, 0],\n",
        "       [0, 0, 5, 0],\n",
        "       [0, 0, 0, 1]])"
       ]
      }
     ],
     "prompt_number": 27
    },
    {
     "cell_type": "code",
     "collapsed": false,
     "input": [
      "zooms_plus_translations = nib.affines.from_matvec(np.diag([3, 4, 5]), [11, 12, 13])\n",
      "zooms_plus_translations"
     ],
     "language": "python",
     "metadata": {},
     "outputs": [
      {
       "metadata": {},
       "output_type": "pyout",
       "prompt_number": 28,
       "text": [
        "array([[ 3,  0,  0, 11],\n",
        "       [ 0,  4,  0, 12],\n",
        "       [ 0,  0,  5, 13],\n",
        "       [ 0,  0,  0,  1]])"
       ]
      }
     ],
     "prompt_number": 28
    },
    {
     "cell_type": "markdown",
     "metadata": {},
     "source": [
      "`nibabel.affines.to_matvec` just does the reverse:"
     ]
    },
    {
     "cell_type": "code",
     "collapsed": false,
     "input": [
      "mat, vec = nib.affines.to_matvec(zooms_plus_translations)\n",
      "mat, vec"
     ],
     "language": "python",
     "metadata": {},
     "outputs": [
      {
       "metadata": {},
       "output_type": "pyout",
       "prompt_number": 29,
       "text": [
        "(array([[3, 0, 0],\n",
        "        [0, 4, 0],\n",
        "        [0, 0, 5]]), array([11, 12, 13]))"
       ]
      }
     ],
     "prompt_number": 29
    }
   ],
   "metadata": {}
  }
 ]
}