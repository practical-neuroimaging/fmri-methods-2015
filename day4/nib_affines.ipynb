{
 "metadata": {
  "name": "",
  "signature": "sha256:f5f57c4b01891e5a8a63a3c9315b37a76e75458d472bd13e8fb855cdaa6c0b90"
 },
 "nbformat": 3,
 "nbformat_minor": 0,
 "worksheets": [
  {
   "cells": [
    {
     "cell_type": "code",
     "collapsed": false,
     "input": [
      "# - compatibility with Python 3\n",
      "from __future__ import print_function  # print('me') instead of print 'me'\n",
      "from __future__ import division  # 1/2 == 0.5, not 0"
     ],
     "language": "python",
     "metadata": {},
     "outputs": [],
     "prompt_number": 1
    },
    {
     "cell_type": "code",
     "collapsed": false,
     "input": [
      "# - show figures inside the notebook\n",
      "%matplotlib inline"
     ],
     "language": "python",
     "metadata": {},
     "outputs": [],
     "prompt_number": 2
    },
    {
     "cell_type": "code",
     "collapsed": false,
     "input": [
      "# - import common modules\n",
      "import numpy as np  # the Python array package\n",
      "import matplotlib.pyplot as plt  # the Python plotting package"
     ],
     "language": "python",
     "metadata": {},
     "outputs": [],
     "prompt_number": 3
    },
    {
     "cell_type": "code",
     "collapsed": false,
     "input": [
      "# - set gray colormap and nearest neighbor interpolation by default\n",
      "plt.rcParams['image.cmap'] = 'gray'\n",
      "plt.rcParams['image.interpolation'] = 'nearest'"
     ],
     "language": "python",
     "metadata": {},
     "outputs": [],
     "prompt_number": 4
    },
    {
     "cell_type": "code",
     "collapsed": false,
     "input": [
      "# - import numpy.linalg with a shorter name\n",
      "import numpy.linalg as npl"
     ],
     "language": "python",
     "metadata": {},
     "outputs": [],
     "prompt_number": 5
    },
    {
     "cell_type": "code",
     "collapsed": false,
     "input": [
      "# - make numpy print out values in less verbose form\n",
      "np.set_printoptions(suppress=True, precision=4)"
     ],
     "language": "python",
     "metadata": {},
     "outputs": [],
     "prompt_number": 6
    },
    {
     "cell_type": "markdown",
     "metadata": {},
     "source": [
      "## Tranpose for moving axes around"
     ]
    },
    {
     "cell_type": "markdown",
     "metadata": {},
     "source": [
      "Numpy allows you to swap axes without costing anything in memory, and very little in time.\n",
      "\n",
      "The obvious axis swap is a 2D array transpose:"
     ]
    },
    {
     "cell_type": "code",
     "collapsed": false,
     "input": [
      "arr = np.arange(10).reshape((5, 2))\n",
      "arr"
     ],
     "language": "python",
     "metadata": {},
     "outputs": [
      {
       "metadata": {},
       "output_type": "pyout",
       "prompt_number": 7,
       "text": [
        "array([[0, 1],\n",
        "       [2, 3],\n",
        "       [4, 5],\n",
        "       [6, 7],\n",
        "       [8, 9]])"
       ]
      }
     ],
     "prompt_number": 7
    },
    {
     "cell_type": "code",
     "collapsed": false,
     "input": [
      "arr.T"
     ],
     "language": "python",
     "metadata": {},
     "outputs": [
      {
       "metadata": {},
       "output_type": "pyout",
       "prompt_number": 8,
       "text": [
        "array([[0, 2, 4, 6, 8],\n",
        "       [1, 3, 5, 7, 9]])"
       ]
      }
     ],
     "prompt_number": 8
    },
    {
     "cell_type": "markdown",
     "metadata": {},
     "source": [
      "The `transpose` method - and `np.tranpose` function does the same thing in 2D:"
     ]
    },
    {
     "cell_type": "code",
     "collapsed": false,
     "input": [
      "arr.transpose()"
     ],
     "language": "python",
     "metadata": {},
     "outputs": [
      {
       "metadata": {},
       "output_type": "pyout",
       "prompt_number": 9,
       "text": [
        "array([[0, 2, 4, 6, 8],\n",
        "       [1, 3, 5, 7, 9]])"
       ]
      }
     ],
     "prompt_number": 9
    },
    {
     "cell_type": "markdown",
     "metadata": {},
     "source": [
      "The advantage of `transpose` is that is allows you to move axes into any arbitrary order.\n",
      "\n",
      "For example, let's say you had a 3D array:"
     ]
    },
    {
     "cell_type": "code",
     "collapsed": false,
     "input": [
      "arr = np.arange(24).reshape((2, 3, 4))\n",
      "arr"
     ],
     "language": "python",
     "metadata": {},
     "outputs": [
      {
       "metadata": {},
       "output_type": "pyout",
       "prompt_number": 10,
       "text": [
        "array([[[ 0,  1,  2,  3],\n",
        "        [ 4,  5,  6,  7],\n",
        "        [ 8,  9, 10, 11]],\n",
        "\n",
        "       [[12, 13, 14, 15],\n",
        "        [16, 17, 18, 19],\n",
        "        [20, 21, 22, 23]]])"
       ]
      }
     ],
     "prompt_number": 10
    },
    {
     "cell_type": "code",
     "collapsed": false,
     "input": [
      "arr.shape"
     ],
     "language": "python",
     "metadata": {},
     "outputs": [
      {
       "metadata": {},
       "output_type": "pyout",
       "prompt_number": 11,
       "text": [
        "(2, 3, 4)"
       ]
      }
     ],
     "prompt_number": 11
    },
    {
     "cell_type": "code",
     "collapsed": false,
     "input": [
      "arr[:, :, 0]"
     ],
     "language": "python",
     "metadata": {},
     "outputs": [
      {
       "metadata": {},
       "output_type": "pyout",
       "prompt_number": 12,
       "text": [
        "array([[ 0,  4,  8],\n",
        "       [12, 16, 20]])"
       ]
      }
     ],
     "prompt_number": 12
    },
    {
     "cell_type": "markdown",
     "metadata": {},
     "source": [
      "`transpose` allows you to re-order these axes as you like.  For example, maybe you wanted to take the current last axis, and make it the first axis.   You pass `transpose` the order of the axes that you want:"
     ]
    },
    {
     "cell_type": "code",
     "collapsed": false,
     "input": [
      "new_arr = arr.transpose(2, 0, 1)"
     ],
     "language": "python",
     "metadata": {},
     "outputs": [],
     "prompt_number": 13
    },
    {
     "cell_type": "code",
     "collapsed": false,
     "input": [
      "new_arr"
     ],
     "language": "python",
     "metadata": {},
     "outputs": [
      {
       "metadata": {},
       "output_type": "pyout",
       "prompt_number": 14,
       "text": [
        "array([[[ 0,  4,  8],\n",
        "        [12, 16, 20]],\n",
        "\n",
        "       [[ 1,  5,  9],\n",
        "        [13, 17, 21]],\n",
        "\n",
        "       [[ 2,  6, 10],\n",
        "        [14, 18, 22]],\n",
        "\n",
        "       [[ 3,  7, 11],\n",
        "        [15, 19, 23]]])"
       ]
      }
     ],
     "prompt_number": 14
    },
    {
     "cell_type": "code",
     "collapsed": false,
     "input": [
      "new_arr.shape"
     ],
     "language": "python",
     "metadata": {},
     "outputs": [
      {
       "metadata": {},
       "output_type": "pyout",
       "prompt_number": 15,
       "text": [
        "(4, 2, 3)"
       ]
      }
     ],
     "prompt_number": 15
    },
    {
     "cell_type": "code",
     "collapsed": false,
     "input": [
      "new_arr[0, :, :]"
     ],
     "language": "python",
     "metadata": {},
     "outputs": [
      {
       "metadata": {},
       "output_type": "pyout",
       "prompt_number": 16,
       "text": [
        "array([[ 0,  4,  8],\n",
        "       [12, 16, 20]])"
       ]
      }
     ],
     "prompt_number": 16
    },
    {
     "cell_type": "markdown",
     "metadata": {},
     "source": [
      "Notice that the contents of the axis has not changed, just the position.  `new_arr[i, :, :]` is the same as `arr[:, :, i]` for any `i`."
     ]
    },
    {
     "cell_type": "markdown",
     "metadata": {},
     "source": [
      "## Removing 1-length axes with `np.squeeze`"
     ]
    },
    {
     "cell_type": "markdown",
     "metadata": {},
     "source": [
      "Sometimes we find ourselves with arrays with length-1 axes - and we want to remove these axes.  For example:"
     ]
    },
    {
     "cell_type": "code",
     "collapsed": false,
     "input": [
      "arr = np.random.normal(size=(4, 1, 6))\n",
      "arr.shape"
     ],
     "language": "python",
     "metadata": {},
     "outputs": [
      {
       "metadata": {},
       "output_type": "pyout",
       "prompt_number": 17,
       "text": [
        "(4, 1, 6)"
       ]
      }
     ],
     "prompt_number": 17
    },
    {
     "cell_type": "code",
     "collapsed": false,
     "input": [
      "squeezed = np.squeeze(arr)\n",
      "squeezed.shape"
     ],
     "language": "python",
     "metadata": {},
     "outputs": [
      {
       "metadata": {},
       "output_type": "pyout",
       "prompt_number": 18,
       "text": [
        "(4, 6)"
       ]
      }
     ],
     "prompt_number": 18
    },
    {
     "cell_type": "code",
     "collapsed": false,
     "input": [
      "arr = np.zeros((1, 3, 1, 7))\n",
      "arr.shape"
     ],
     "language": "python",
     "metadata": {},
     "outputs": [
      {
       "metadata": {},
       "output_type": "pyout",
       "prompt_number": 19,
       "text": [
        "(1, 3, 1, 7)"
       ]
      }
     ],
     "prompt_number": 19
    },
    {
     "cell_type": "code",
     "collapsed": false,
     "input": [
      "np.squeeze(arr).shape"
     ],
     "language": "python",
     "metadata": {},
     "outputs": [
      {
       "metadata": {},
       "output_type": "pyout",
       "prompt_number": 20,
       "text": [
        "(3, 7)"
       ]
      }
     ],
     "prompt_number": 20
    },
    {
     "cell_type": "markdown",
     "metadata": {},
     "source": [
      "## Applying coordinate transforms with `nibabel.affines.apply_affine`"
     ]
    },
    {
     "cell_type": "markdown",
     "metadata": {},
     "source": [
      "We often want to apply an affine to an array of coordinates, where the last axis of the array is length 3, containing the x, y and z coordinates.\n",
      "\n",
      "Nibabel uses `nibabel.affines.apply_affine` for this."
     ]
    },
    {
     "cell_type": "code",
     "collapsed": false,
     "input": [
      "import nibabel as nib"
     ],
     "language": "python",
     "metadata": {},
     "outputs": [],
     "prompt_number": 21
    },
    {
     "cell_type": "code",
     "collapsed": false,
     "input": [
      "points = np.array([[0, 1, 2], [2, 2, 4], [3, -2, 1], [5, 3, 1]])\n",
      "points"
     ],
     "language": "python",
     "metadata": {},
     "outputs": [
      {
       "metadata": {},
       "output_type": "pyout",
       "prompt_number": 22,
       "text": [
        "array([[ 0,  1,  2],\n",
        "       [ 2,  2,  4],\n",
        "       [ 3, -2,  1],\n",
        "       [ 5,  3,  1]])"
       ]
      }
     ],
     "prompt_number": 22
    },
    {
     "cell_type": "code",
     "collapsed": false,
     "input": [
      "zooms_plus_translations = nib.affines.from_matvec(np.diag([3, 4, 5]), [11, 12, 13])\n",
      "zooms_plus_translations"
     ],
     "language": "python",
     "metadata": {},
     "outputs": [
      {
       "metadata": {},
       "output_type": "pyout",
       "prompt_number": 23,
       "text": [
        "array([[ 3,  0,  0, 11],\n",
        "       [ 0,  4,  0, 12],\n",
        "       [ 0,  0,  5, 13],\n",
        "       [ 0,  0,  0,  1]])"
       ]
      }
     ],
     "prompt_number": 23
    },
    {
     "cell_type": "code",
     "collapsed": false,
     "input": [
      "nib.affines.apply_affine(zooms_plus_translations, points)"
     ],
     "language": "python",
     "metadata": {},
     "outputs": [
      {
       "metadata": {},
       "output_type": "pyout",
       "prompt_number": 24,
       "text": [
        "array([[11, 16, 23],\n",
        "       [17, 20, 33],\n",
        "       [20,  4, 18],\n",
        "       [26, 24, 18]])"
       ]
      }
     ],
     "prompt_number": 24
    },
    {
     "cell_type": "markdown",
     "metadata": {},
     "source": [
      "Of course, this is the same as:"
     ]
    },
    {
     "cell_type": "code",
     "collapsed": false,
     "input": [
      "mat, vec = nib.affines.to_matvec(zooms_plus_translations)\n",
      "mat.dot(points.T).T + vec.reshape((1, 3))"
     ],
     "language": "python",
     "metadata": {},
     "outputs": [
      {
       "metadata": {},
       "output_type": "pyout",
       "prompt_number": 25,
       "text": [
        "array([[11, 16, 23],\n",
        "       [17, 20, 33],\n",
        "       [20,  4, 18],\n",
        "       [26, 24, 18]])"
       ]
      }
     ],
     "prompt_number": 25
    },
    {
     "cell_type": "markdown",
     "metadata": {},
     "source": [
      "The advantage of `nib.affines.apply_affine` is that it can deal with arrays of more than two dimensions, and it transposes the transformation matrices for you to apply the transforms correctly."
     ]
    },
    {
     "cell_type": "markdown",
     "metadata": {},
     "source": [
      "A typical use is when applying extra affine transformations to a X by Y by Z by 3 array of coordinates."
     ]
    },
    {
     "cell_type": "markdown",
     "metadata": {},
     "source": [
      "## `affine_transform` and the implied coordinate grid"
     ]
    },
    {
     "cell_type": "code",
     "collapsed": false,
     "input": [
      "from scipy.ndimage import affine_transform, map_coordinates"
     ],
     "language": "python",
     "metadata": {},
     "outputs": [],
     "prompt_number": 26
    },
    {
     "cell_type": "markdown",
     "metadata": {},
     "source": [
      "So far we have done all our image resampling with `scipy.ndimage.affine_transform`.\n",
      "\n",
      "`affine_transform` accepts:\n",
      "\n",
      "* an array to resample from (`input`);\n",
      "* the `mat` part of an affine;\n",
      "* the `vec` (translation) part of an affine;\n",
      "* an optional `output_shape` (defaulting to `input.shape`).\n",
      "\n",
      "`affine_transform` then generates all the voxel coordinates *implied by* the `output_shape`, and transforms them with the `mat` and `vec` transforms to get a new set of coordinates `C`.  It then samples the `input` array at the coordinates given by `C` to generate the output array."
     ]
    },
    {
     "cell_type": "markdown",
     "metadata": {},
     "source": [
      "## Making coordinate arrays with meshgrid"
     ]
    },
    {
     "cell_type": "markdown",
     "metadata": {},
     "source": [
      "`affine_transform` works by using voxel coordinate implied by the `output_shape`, and transforming those.\n",
      "\n",
      "`meshgrid` is a way of making an actual coordinate grid.\n",
      "\n",
      "As we will see soon, this is particularly useful when we want to use the more general form of image resampling in `scipy.ndimage.map_coordinates`."
     ]
    },
    {
     "cell_type": "markdown",
     "metadata": {},
     "source": [
      "If we have some shape - say `output_shape` - then this implies a set of coordinates.  Let's say `output_shape = (5, 4)` - implying a 2D array.\n",
      "\n",
      "The implied coordinate grid will therefore have one coordinate for each pixel (2D voxel) in the (5, 4) array.\n",
      "\n",
      "Because this array is 2D, there are two coordinate values for each pixel.  For example, the coordinate of the first element in the array is (0, 0). We can make these i- and j- coordinates with `meshgrid`:"
     ]
    },
    {
     "cell_type": "code",
     "collapsed": false,
     "input": [
      "i_coords, j_coords = np.meshgrid(range(5), range(4), indexing='ij')\n",
      "print('i_coords', i_coords)\n",
      "print('j_coords', j_coords)"
     ],
     "language": "python",
     "metadata": {},
     "outputs": [
      {
       "output_type": "stream",
       "stream": "stdout",
       "text": [
        "i_coords [[0 0 0 0]\n",
        " [1 1 1 1]\n",
        " [2 2 2 2]\n",
        " [3 3 3 3]\n",
        " [4 4 4 4]]\n",
        "j_coords [[0 1 2 3]\n",
        " [0 1 2 3]\n",
        " [0 1 2 3]\n",
        " [0 1 2 3]\n",
        " [0 1 2 3]]\n"
       ]
      }
     ],
     "prompt_number": 27
    },
    {
     "cell_type": "markdown",
     "metadata": {},
     "source": [
      "We can make this into a shape (2, 5, 4) array where the first axis contains the (i, j) coordinate.  "
     ]
    },
    {
     "cell_type": "code",
     "collapsed": false,
     "input": [
      "coordinate_grid = np.array([i_coords, j_coords])\n",
      "coordinate_grid.shape"
     ],
     "language": "python",
     "metadata": {},
     "outputs": [
      {
       "metadata": {},
       "output_type": "pyout",
       "prompt_number": 28,
       "text": [
        "(2, 5, 4)"
       ]
      }
     ],
     "prompt_number": 28
    },
    {
     "cell_type": "markdown",
     "metadata": {},
     "source": [
      "Because we have not done any transformation on the coordinate, the i, j coordinate will be the same as the index we use to get the i, j coordinate:"
     ]
    },
    {
     "cell_type": "code",
     "collapsed": false,
     "input": [
      "print(coordinate_grid[:, 0, 0])\n",
      "print(coordinate_grid[:, 1, 0])\n",
      "print(coordinate_grid[:, 0, 1])"
     ],
     "language": "python",
     "metadata": {},
     "outputs": [
      {
       "output_type": "stream",
       "stream": "stdout",
       "text": [
        "[0 0]\n",
        "[1 0]\n",
        "[0 1]\n"
       ]
      }
     ],
     "prompt_number": 29
    },
    {
     "cell_type": "markdown",
     "metadata": {},
     "source": [
      "This then is the coordinate grid implied by a shape of (5, 4)."
     ]
    },
    {
     "cell_type": "markdown",
     "metadata": {},
     "source": [
      "Now imagine I wanted to do a transformation on these coordinates.  Say I wanted to add 2 the first (i) coordinate:"
     ]
    },
    {
     "cell_type": "code",
     "collapsed": false,
     "input": [
      "coordinate_grid[0, :, :] += 2"
     ],
     "language": "python",
     "metadata": {},
     "outputs": [],
     "prompt_number": 30
    },
    {
     "cell_type": "markdown",
     "metadata": {},
     "source": [
      "Now my coordinate grid expresses a *mapping* between a given ($i, j$) coordinate, and the new coordinate ($i', j'$.  I look up the new coordinate using the $i, j$ index into the coordinate grid:"
     ]
    },
    {
     "cell_type": "code",
     "collapsed": false,
     "input": [
      "print(coordinate_grid[:, 0, 0])  # look up new coordinate for (0, 0)\n",
      "print(coordinate_grid[:, 1, 0])  # look up new coordinate for (1, 0)\n",
      "print(coordinate_grid[:, 0, 1])  # look up new coordinate for (0, 1)"
     ],
     "language": "python",
     "metadata": {},
     "outputs": [
      {
       "output_type": "stream",
       "stream": "stdout",
       "text": [
        "[2 0]\n",
        "[3 0]\n",
        "[2 1]\n"
       ]
      }
     ],
     "prompt_number": 31
    },
    {
     "cell_type": "markdown",
     "metadata": {},
     "source": [
      "This means we can use these coordinate grids as a *mapping* from an input set of coordinates to an output set of coordinates, for each pixel / voxel."
     ]
    },
    {
     "cell_type": "markdown",
     "metadata": {},
     "source": [
      "As you can imagine, meshgrid extends simply to three dimensions or more:"
     ]
    },
    {
     "cell_type": "code",
     "collapsed": false,
     "input": [
      "output_shape = (5, 6, 7)\n",
      "i_coords, j_coords, k_coords = np.meshgrid(range(output_shape[0]), range(output_shape[1]), range(output_shape[2]),\n",
      "                                           indexing='ij')\n",
      "coordinate_grid = np.array([i_coords, j_coords, k_coords])\n",
      "coordinate_grid.shape"
     ],
     "language": "python",
     "metadata": {},
     "outputs": [
      {
       "metadata": {},
       "output_type": "pyout",
       "prompt_number": 32,
       "text": [
        "(3, 5, 6, 7)"
       ]
      }
     ],
     "prompt_number": 32
    },
    {
     "cell_type": "code",
     "collapsed": false,
     "input": [
      "print(coordinate_grid[:, 0, 0, 0])\n",
      "print(coordinate_grid[:, 1, 0, 0])\n",
      "print(coordinate_grid[:, 0, 1, 0])\n",
      "print(coordinate_grid[:, 0, 0, 1])"
     ],
     "language": "python",
     "metadata": {},
     "outputs": [
      {
       "output_type": "stream",
       "stream": "stdout",
       "text": [
        "[0 0 0]\n",
        "[1 0 0]\n",
        "[0 1 0]\n",
        "[0 0 1]\n"
       ]
      }
     ],
     "prompt_number": 33
    },
    {
     "cell_type": "markdown",
     "metadata": {},
     "source": [
      "## General resampling between images with `scipy.ndimage.map_coordinates`"
     ]
    },
    {
     "cell_type": "markdown",
     "metadata": {},
     "source": [
      "`map_coordinates` is the more general of resampling from images with coordinates.\n",
      "\n",
      "Instead of using the *implied* coordinate grid, we pass in an actual coordinate array.\n",
      "\n",
      "This means that we can resample using coordinate transformations that can't be expressed as an affine, such as complex non-linear transformations.  `map_coordinates` accepts:\n",
      "\n",
      "* array array to resample from (`input`);\n",
      "* The `C` array shape (3,) + output_shape giving the voxel coordinates at which to sample `input`.\n",
      "\n",
      "`map_coordinates` then makes an empty array shape `D` where `D = C.shape[1:]`.   For every index `i, j, k` it:\n",
      "\n",
      "* Gets the 3-length vector `coord = C[:, i, j, k]` giving the voxel coordinate in `input`;\n",
      "* Samples `input` at coordinates `coord` to give value `v`;\n",
      "* Inserts `v` into `D` with `D[i, j, k] = v`."
     ]
    },
    {
     "cell_type": "markdown",
     "metadata": {},
     "source": [
      "This might be clearer with an example.  Let's resample a structural to a functional like we did last week (see `day10/resampling_with_affines_solutions.ipynb`:"
     ]
    },
    {
     "cell_type": "code",
     "collapsed": false,
     "input": [
      "import nibabel as nib\n",
      "bold_img = nib.load('ds114_sub009_t2r1.nii')\n",
      "mean_bold_data = bold_img.get_data().mean(axis=-1)\n",
      "structural_img = nib.load('ds114_sub009_highres.nii')\n",
      "structural_data = structural_img.get_data()"
     ],
     "language": "python",
     "metadata": {},
     "outputs": [],
     "prompt_number": 34
    },
    {
     "cell_type": "markdown",
     "metadata": {},
     "source": [
      "We now now the transformation to go from voxels in the structural to voxels in the (mean) functional:"
     ]
    },
    {
     "cell_type": "code",
     "collapsed": false,
     "input": [
      "struct_vox2mean_vox = npl.inv(bold_img.affine).dot(structural_img.affine)\n",
      "struct_vox2mean_vox"
     ],
     "language": "python",
     "metadata": {},
     "outputs": [
      {
       "metadata": {},
       "output_type": "pyout",
       "prompt_number": 35,
       "text": [
        "array([[ -0.2497,   0.0151,  -0.0027,  63.5174],\n",
        "       [  0.0115,   0.3242,   0.0137,   1.1053],\n",
        "       [ -0.0034,  -0.0176,   0.2496, -27.7359],\n",
        "       [  0.    ,   0.    ,   0.    ,   1.    ]])"
       ]
      }
     ],
     "prompt_number": 35
    },
    {
     "cell_type": "markdown",
     "metadata": {},
     "source": [
      "Sure enough, if we use this affine to resample the functional image, we get a functional image with the same voxel sizes and positions as the structural image:"
     ]
    },
    {
     "cell_type": "code",
     "collapsed": false,
     "input": [
      "# Resample using affine_transform\n",
      "mat, vec = nib.affines.to_matvec(struct_vox2mean_vox)\n",
      "resampled_mean = affine_transform(mean_bold_data, mat, vec, output_shape=structural_data.shape)"
     ],
     "language": "python",
     "metadata": {},
     "outputs": [],
     "prompt_number": 36
    },
    {
     "cell_type": "code",
     "collapsed": false,
     "input": [
      "# Show resampled data\n",
      "fig, axes = plt.subplots(1, 2, figsize=(10, 5))\n",
      "axes[0].imshow(resampled_mean[:, :, 150])\n",
      "axes[1].imshow(structural_data[:, :, 150])"
     ],
     "language": "python",
     "metadata": {},
     "outputs": [
      {
       "metadata": {},
       "output_type": "pyout",
       "prompt_number": 37,
       "text": [
        "<matplotlib.image.AxesImage at 0x111b42ad0>"
       ]
      },
      {
       "metadata": {},
       "output_type": "display_data",
       "png": "[encoded data removed]",
       "text": [
        "<matplotlib.figure.Figure at 0x107b70350>"
       ]
      }
     ],
     "prompt_number": 37
    },
    {
     "cell_type": "markdown",
     "metadata": {},
     "source": [
      "We get the exact same effect with `map_coordinates` if we create the voxel coordinates ourselves, and apply the transform to them:"
     ]
    },
    {
     "cell_type": "code",
     "collapsed": false,
     "input": [
      "# Get the I, J, K coordinates implied by the structural data array shape\n",
      "I, J, K = structural_data.shape\n",
      "i_vals, j_vals, k_vals = np.meshgrid(range(I), range(J), range(K), indexing='ij')\n",
      "in_vox_coords = np.array([i_vals, j_vals, k_vals])\n",
      "in_vox_coords.shape"
     ],
     "language": "python",
     "metadata": {},
     "outputs": [
      {
       "metadata": {},
       "output_type": "pyout",
       "prompt_number": 38,
       "text": [
        "(3, 256, 156, 256)"
       ]
      }
     ],
     "prompt_number": 38
    },
    {
     "cell_type": "code",
     "collapsed": false,
     "input": [
      "in_vox_coords[:, 0, 0, 0]"
     ],
     "language": "python",
     "metadata": {},
     "outputs": [
      {
       "metadata": {},
       "output_type": "pyout",
       "prompt_number": 39,
       "text": [
        "array([0, 0, 0])"
       ]
      }
     ],
     "prompt_number": 39
    },
    {
     "cell_type": "code",
     "collapsed": false,
     "input": [
      "in_vox_coords[:, 1, 0, 0]"
     ],
     "language": "python",
     "metadata": {},
     "outputs": [
      {
       "metadata": {},
       "output_type": "pyout",
       "prompt_number": 40,
       "text": [
        "array([1, 0, 0])"
       ]
      }
     ],
     "prompt_number": 40
    },
    {
     "cell_type": "markdown",
     "metadata": {},
     "source": [
      "Transform using affine:"
     ]
    },
    {
     "cell_type": "code",
     "collapsed": false,
     "input": [
      "coords_last = in_vox_coords.transpose(1, 2, 3, 0)\n",
      "mean_vox_coords = nib.affines.apply_affine(struct_vox2mean_vox, coords_last)\n",
      "coords_first_again = mean_vox_coords.transpose(3, 0, 1, 2)"
     ],
     "language": "python",
     "metadata": {},
     "outputs": [],
     "prompt_number": 41
    },
    {
     "cell_type": "markdown",
     "metadata": {},
     "source": [
      "Use this with `map_coordinates` to get the same result as we got for `affine_transform`:"
     ]
    },
    {
     "cell_type": "code",
     "collapsed": false,
     "input": [
      "# Resample using map_coordinates\n",
      "resampled_mean_again = map_coordinates(mean_bold_data, coords_first_again)"
     ],
     "language": "python",
     "metadata": {},
     "outputs": [],
     "prompt_number": 42
    },
    {
     "cell_type": "code",
     "collapsed": false,
     "input": [
      "# Show resampled data\n",
      "fig, axes = plt.subplots(1, 2, figsize=(10, 5))\n",
      "axes[0].imshow(resampled_mean_again[:, :, 150])\n",
      "axes[1].imshow(structural_data[:, :, 150])"
     ],
     "language": "python",
     "metadata": {},
     "outputs": [
      {
       "metadata": {},
       "output_type": "pyout",
       "prompt_number": 43,
       "text": [
        "<matplotlib.image.AxesImage at 0x143372e50>"
       ]
      },
      {
       "metadata": {},
       "output_type": "display_data",
       "png": "[encoded data removed]",
       "text": [
        "<matplotlib.figure.Figure at 0x111e25dd0>"
       ]
      }
     ],
     "prompt_number": 43
    }
   ],
   "metadata": {}
  }
 ]
}